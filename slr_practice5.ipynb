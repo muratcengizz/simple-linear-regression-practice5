{
 "cells": [
  {
   "cell_type": "markdown",
   "id": "71ff322e-aed1-4927-82d4-bbedd65b50b5",
   "metadata": {},
   "source": [
    "# Basit Doğrusal Regresyon - Model Tuning - Model Doğrulama"
   ]
  },
  {
   "cell_type": "markdown",
   "id": "15c65f36-34d8-4767-853b-f8b493df7929",
   "metadata": {},
   "source": [
    "### Bir internet hizmet sağlayıcısı, kullanıcılarının hız testlerini kaydetmek istiyor. Şirket, kullanıcının internet bağlantısının hızını etkileyen faktörleri anlamak için bir veri seti toplamaya karar verdi. Toplanan veri seti, kullanıcının internet bağlantısı hızı ve aşağıdaki faktörler hakkında bilgi içermektedir.\n",
    "\n",
    "### İnternet paket tipi (ADSL, VDSL, fiber, kablo vb.)\n",
    "### Modem Markası\n",
    "### Modem Modeli\n",
    "### Modem Yaşı\n",
    "### Bağlantı Tipi (kablolu veya kablosuz)\n",
    "### İnternet Kullanım Saati\n",
    "### İnternet Kullanımı Sırasındaki Cihaz Sayısı"
   ]
  },
  {
   "cell_type": "code",
   "execution_count": 15,
   "id": "eac3fe35-124b-4671-bd8a-498654b4b652",
   "metadata": {},
   "outputs": [],
   "source": [
    "import pandas as pd\n",
    "import numpy as np\n",
    "import matplotlib.pyplot as plt\n",
    "from sklearn.linear_model import LinearRegression\n",
    "from sklearn.model_selection import train_test_split, GridSearchCV\n",
    "from sklearn.metrics import mean_squared_error, r2_score"
   ]
  },
  {
   "cell_type": "code",
   "execution_count": 16,
   "id": "5e1317d6-ea19-4812-84ff-e0f3b75d4724",
   "metadata": {},
   "outputs": [
    {
     "data": {
      "text/html": [
       "<div>\n",
       "<style scoped>\n",
       "    .dataframe tbody tr th:only-of-type {\n",
       "        vertical-align: middle;\n",
       "    }\n",
       "\n",
       "    .dataframe tbody tr th {\n",
       "        vertical-align: top;\n",
       "    }\n",
       "\n",
       "    .dataframe thead th {\n",
       "        text-align: right;\n",
       "    }\n",
       "</style>\n",
       "<table border=\"1\" class=\"dataframe\">\n",
       "  <thead>\n",
       "    <tr style=\"text-align: right;\">\n",
       "      <th></th>\n",
       "      <th>internet_paketi</th>\n",
       "      <th>modem_markasi</th>\n",
       "      <th>modem_modeli</th>\n",
       "      <th>modem_yasi</th>\n",
       "      <th>baglanti_tipi</th>\n",
       "      <th>internet_kullanim_saati</th>\n",
       "      <th>cihaz_sayisi</th>\n",
       "      <th>internet_hizi</th>\n",
       "    </tr>\n",
       "  </thead>\n",
       "  <tbody>\n",
       "    <tr>\n",
       "      <th>0</th>\n",
       "      <td>fiber</td>\n",
       "      <td>Linksys</td>\n",
       "      <td>Archer C9</td>\n",
       "      <td>3</td>\n",
       "      <td>kablolu</td>\n",
       "      <td>14</td>\n",
       "      <td>5</td>\n",
       "      <td>14.332861</td>\n",
       "    </tr>\n",
       "    <tr>\n",
       "      <th>1</th>\n",
       "      <td>kablo</td>\n",
       "      <td>TP-Link</td>\n",
       "      <td>DIR-655</td>\n",
       "      <td>2</td>\n",
       "      <td>kablosuz</td>\n",
       "      <td>15</td>\n",
       "      <td>2</td>\n",
       "      <td>18.979808</td>\n",
       "    </tr>\n",
       "    <tr>\n",
       "      <th>2</th>\n",
       "      <td>ADSL</td>\n",
       "      <td>TP-Link</td>\n",
       "      <td>WRT54GL</td>\n",
       "      <td>2</td>\n",
       "      <td>kablosuz</td>\n",
       "      <td>14</td>\n",
       "      <td>3</td>\n",
       "      <td>13.511732</td>\n",
       "    </tr>\n",
       "    <tr>\n",
       "      <th>3</th>\n",
       "      <td>fiber</td>\n",
       "      <td>D-Link</td>\n",
       "      <td>WRT54GL</td>\n",
       "      <td>3</td>\n",
       "      <td>kablosuz</td>\n",
       "      <td>7</td>\n",
       "      <td>2</td>\n",
       "      <td>15.186245</td>\n",
       "    </tr>\n",
       "    <tr>\n",
       "      <th>4</th>\n",
       "      <td>fiber</td>\n",
       "      <td>Linksys</td>\n",
       "      <td>WRT54GL</td>\n",
       "      <td>3</td>\n",
       "      <td>kablosuz</td>\n",
       "      <td>17</td>\n",
       "      <td>5</td>\n",
       "      <td>18.725683</td>\n",
       "    </tr>\n",
       "  </tbody>\n",
       "</table>\n",
       "</div>"
      ],
      "text/plain": [
       "  internet_paketi modem_markasi modem_modeli  modem_yasi baglanti_tipi  \\\n",
       "0           fiber       Linksys    Archer C9           3       kablolu   \n",
       "1           kablo       TP-Link      DIR-655           2      kablosuz   \n",
       "2            ADSL       TP-Link      WRT54GL           2      kablosuz   \n",
       "3           fiber        D-Link      WRT54GL           3      kablosuz   \n",
       "4           fiber       Linksys      WRT54GL           3      kablosuz   \n",
       "\n",
       "   internet_kullanim_saati  cihaz_sayisi  internet_hizi  \n",
       "0                       14             5      14.332861  \n",
       "1                       15             2      18.979808  \n",
       "2                       14             3      13.511732  \n",
       "3                        7             2      15.186245  \n",
       "4                       17             5      18.725683  "
      ]
     },
     "execution_count": 16,
     "metadata": {},
     "output_type": "execute_result"
    }
   ],
   "source": [
    "# veri setinin oluşturulması.\n",
    "\n",
    "np.random.seed(42)\n",
    "n = 500  # veri setindeki gözlem sayısı\n",
    "\n",
    "# Bağımsız değişkenlerin olası değerleri\n",
    "internet_paketleri = ['ADSL', 'VDSL', 'fiber', 'kablo']\n",
    "modem_markalari = ['TP-Link', 'Netgear', 'Linksys', 'D-Link']\n",
    "modem_modelleri = ['WRT54GL', 'Archer C9', 'DIR-655', 'Nighthawk X10']\n",
    "baglanti_tipleri = ['kablolu', 'kablosuz']\n",
    "\n",
    "# Bağımsız değişkenleri içeren rastgele veri seti oluşturun\n",
    "veri = pd.DataFrame({\n",
    "    'internet_paketi': np.random.choice(internet_paketleri, size=n),\n",
    "    'modem_markasi': np.random.choice(modem_markalari, size=n),\n",
    "    'modem_modeli': np.random.choice(modem_modelleri, size=n),\n",
    "    'modem_yasi': np.random.randint(low=1, high=5, size=n),\n",
    "    'baglanti_tipi': np.random.choice(baglanti_tipleri, size=n),\n",
    "    'internet_kullanim_saati': np.random.randint(low=1, high=24, size=n),\n",
    "    'cihaz_sayisi': np.random.randint(low=1, high=6, size=n),\n",
    "})\n",
    "\n",
    "# Hedef değişken (internet hızı) oluşturun\n",
    "veri['internet_hizi'] = 10 + \\\n",
    "    veri.modem_yasi * 2 + \\\n",
    "    (veri.internet_kullanim_saati / 24) * 10 + \\\n",
    "    (veri.cihaz_sayisi - 1) * (-2) + \\\n",
    "    np.random.normal(scale=5, size=n)\n",
    "\n",
    "# Veri setini görüntüleyin\n",
    "veri.head()"
   ]
  },
  {
   "cell_type": "markdown",
   "id": "f2779cd8-bfc4-4cb1-9dfe-291e16dc3a06",
   "metadata": {},
   "source": [
    "#### Elde ettiğimiz veri setinde, hedef değişken 'internet_hizi' dir. Bu değişkeni diğer bağımsız değişkenlerle ilişkilendirmek için basit doğrusal regresyon kullanabiliriz.\n",
    "\n",
    "#### Basit doğrusal regresyon, yalnızca bir bağımsız değişken ile hedef değişken arasındaki ilişkiyi modellemektedir. Bu nedenle, en basit modelimizi 'modem_yasi' bağımsız değişkeni ile 'internet_hizi' hedef değişkeni arasındaki ilişkiyi inceleyerek oluşturabiliriz."
   ]
  },
  {
   "cell_type": "code",
   "execution_count": 17,
   "id": "9099f6db-c9c8-4460-bad4-6f09c432ef6a",
   "metadata": {},
   "outputs": [],
   "source": [
    "# bağımlı ve bağımsız değişkenlerin oluşturulması\n",
    "\n",
    "X = veri['modem_yasi'].values.reshape(-1, 1)\n",
    "y = veri['internet_hizi'].values.reshape(-1, 1)"
   ]
  },
  {
   "cell_type": "code",
   "execution_count": 18,
   "id": "cb5e1e48-0cac-404a-9cd9-854182f9d930",
   "metadata": {},
   "outputs": [],
   "source": [
    "# eğitim ve test setlerinin ayrıştırılması.\n",
    "\n",
    "X_train, X_test, y_train, y_test = train_test_split(X, y, test_size=0.2, random_state=42)"
   ]
  },
  {
   "cell_type": "code",
   "execution_count": 19,
   "id": "fc3fd71b-763f-470a-bac6-22070155c973",
   "metadata": {},
   "outputs": [
    {
     "data": {
      "text/plain": [
       "LinearRegression()"
      ]
     },
     "execution_count": 19,
     "metadata": {},
     "output_type": "execute_result"
    }
   ],
   "source": [
    "# modelimizi oluşturalım ve eğitelim.\n",
    "\n",
    "model = LinearRegression()\n",
    "model.fit(X_train, y_train)"
   ]
  },
  {
   "cell_type": "code",
   "execution_count": 20,
   "id": "cd2f546b-c51a-4f1b-81ec-48d30bfb82b0",
   "metadata": {},
   "outputs": [],
   "source": [
    "# Test verileri üzerinde tahmin yapalım.\n",
    "\n",
    "y_pred = model.predict(X_test)"
   ]
  },
  {
   "cell_type": "code",
   "execution_count": 21,
   "id": "c16f9a0a-5411-418f-bda5-3d43d154b64e",
   "metadata": {},
   "outputs": [
    {
     "name": "stdout",
     "output_type": "stream",
     "text": [
      "Ortalama Hata Kareleri (MSE):  42.88050268926186\n",
      "R-kare değeri:  -0.15242221712080806\n"
     ]
    }
   ],
   "source": [
    "# Modelin performansını değerlendirelim.\n",
    "\n",
    "mse = mean_squared_error(y_test, y_pred)\n",
    "r_kare = r2_score(y_test, y_pred)\n",
    "\n",
    "print('Ortalama Hata Kareleri (MSE): ', mse)\n",
    "print('R-kare değeri: ', r_kare)"
   ]
  },
  {
   "cell_type": "markdown",
   "id": "92564134-5699-4217-bb38-076c504f8c50",
   "metadata": {},
   "source": [
    "#### Model tuning işlemi için, modelimizdeki tek hiperparametre olan rastgele durum (random_state) parametresini değiştirerek farklı sonuçlar elde edebiliriz."
   ]
  },
  {
   "cell_type": "code",
   "execution_count": 29,
   "id": "9813383e-f81a-4576-96d5-6e86bec1b63d",
   "metadata": {},
   "outputs": [
    {
     "name": "stdout",
     "output_type": "stream",
     "text": [
      "Model 1, rastgele durum 42 için: \n",
      "MSE:  42.88050268926186\n",
      "\n",
      "Model 2, rastgele durum 0 için: \n",
      "MSE:  42.88050268926186\n",
      "\n",
      "Model 3, rastgele durum 100 için: \n",
      "MSE:  42.88050268926186\n",
      "\n"
     ]
    }
   ],
   "source": [
    "# Model tuning işlemi.\n",
    "\n",
    "model1 = LinearRegression().fit(X_train, y_train)\n",
    "model2 = LinearRegression().fit(X_train, y_train)\n",
    "model3 = LinearRegression().fit(X_train, y_train)\n",
    "\n",
    "modeller = [model1, model2, model3]\n",
    "random_states = [42, 0, 100]\n",
    "\n",
    "for i in range(3):\n",
    "    model = modeller[i]\n",
    "    random_state = random_states[i]\n",
    "    model.fit(X_train, y_train)\n",
    "    y_pred = model.predict(X_test)\n",
    "    mse = mean_squared_error(y_test, y_pred)\n",
    "    \n",
    "    print(f'Model {i+1}, rastgele durum {random_state} için: ')\n",
    "    print('MSE: ', mse)\n",
    "    \n",
    "    print('')"
   ]
  },
  {
   "cell_type": "markdown",
   "id": "75e667be-cba9-4af1-9e52-ca9cfe5d4e95",
   "metadata": {},
   "source": [
    "#### Sonuç olarak, farklı rastgele durumlar kullanılarak oluşturulan modellerin performanslarını değerlendirdik. Her modelin performansı farklı olabilir. Bu nedenle farklı rastgele durumlar kullanarak model tuning yapmak genellikle iyi bir fikirdir.\n",
    "\n",
    "#### Ayrıca, model doğrulama işlemini gerçekleştirmek için çeşitli teknikler kullanılabilir. Örneğin, cross_validation gibi tekniklerle modelimizin performansını daha iyi değerlendirebiliriz. Ancak, bu teknikleri kullanmak, modelimizi daha karmaşık hale getirecektir. Bu nedenle, basit doğrusal regresyon modelimiz için model tuning ve basit bir model doğrulama işlemi yeterlidir."
   ]
  }
 ],
 "metadata": {
  "kernelspec": {
   "display_name": "Python 3 (ipykernel)",
   "language": "python",
   "name": "python3"
  },
  "language_info": {
   "codemirror_mode": {
    "name": "ipython",
    "version": 3
   },
   "file_extension": ".py",
   "mimetype": "text/x-python",
   "name": "python",
   "nbconvert_exporter": "python",
   "pygments_lexer": "ipython3",
   "version": "3.9.12"
  }
 },
 "nbformat": 4,
 "nbformat_minor": 5
}
